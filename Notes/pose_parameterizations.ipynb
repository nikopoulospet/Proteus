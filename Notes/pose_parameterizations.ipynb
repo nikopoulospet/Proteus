{
 "cells": [
  {
   "cell_type": "markdown",
   "id": "eea41ec8-29b3-419b-913c-8898b3189100",
   "metadata": {},
   "source": [
    "# Notes file\n",
    "***\n",
    "## Optimzation approach\n",
    "Some methods perform a 2D to 3D or 3D to 3D optimztaion to iteratively solve the gradient problem. This works well because you can do it image by image and provide a desired skeleton model to optimize the image on. Therefore, if you are already able to estimate body size parameters this is possibly the simpliest method to arrive at a highly accurate pose estimation.  \n",
    "The downside here is that the methods that perform this step, require a Jacobiean matrix. Generally this is calculated analytically and used to calculate the gradient. To use the optimization approach alone, we need to calculate this Jacobiean.\n",
    "\n",
    "### Model fitting 3D $\\Rightarrow$ 3D example\n",
    "This comes from: https://link.springer.com/content/pdf/10.1007%2F978-3-540-76386-4_38.pdf, https://ieeexplore.ieee.org/document/121791   \n",
    "In this case, the human body model is represented as a hierachy of joint links attached to a skin mesh.  \n",
    "Optimization is done with a set of 3D data points P = {$p_1, p_2, ..., p_m$} as targets and their corresponding model vertices V = {$v_1, v_2, ...,v_m$}, the model pose vector q = {$\\theta_1, \\theta_2, ... \\theta_n$}.\n",
    "$$\n",
    "\\hat{q} = argmin_q ||P - V(q)||_2\n",
    "$$\n",
    "To solve the minimization problem, a variant of inverse kinematics is used (aka damped least square), which is inspired by the ICP algorithm. \n",
    "$$\n",
    "||J \\Delta q - \\Delta E||^2 + \\lambda||\\Delta q||^2\n",
    "$$\n",
    "A common issue with ICP approaches for human pose tracking is that the model may drift away from the data or get stuck in local minima. An initial configuration is critical for ICP to converge correctly. The starting pose resbles a \"T\" shape, where the body model has its arms spread out.  \n",
    "This paper does not discuss how it arrives at the Jacobiaen matrix for the body.\n",
    "\n",
    "### Model fitting 2D $\\Rightarrow$ 3D example\n",
    "https://www.researchgate.net/publication/227254718_Model-Based_Pose_Estimation\n",
    "\n",
    "#### Kinematic Chains\n",
    "Human motion is articulated, to model the body effectivelty all the joints must be taken into account. For example, motion in the hand is a concatenation of motions from all the joint parents. hand <- wrist <- elbow <- shoulder <- root.  \n",
    "![](kinematic_chain.png)  \n",
    "In the case of a two joint arm we can represent the transformation between the spacial (root) frame and the body frame with the follwing equation:\n",
    "$$\n",
    "\\bar{p_s} = G_{sb} \\bar{p_b} = G_1 G_2 G_{sb}(0) \\bar{p_b}\n",
    "$$\n",
    "Where Ps is the end-point position in the spacial frame, and pb is the end-point position in the body frame. $G_1$ and $G_2$ are rigid motion tranformations. $G_sb(0)$ is the transformation between B and S at the zero pose. We can extend this equation by representing the spatial coordinates of a point in the body as a function of the joint angles in the chain:\n",
    "$$\n",
    "\\bar{p_s} = G_{sb}(\\theta_1 , \\theta_2) = e^{\\hat{\\xi_1}\\theta_1} e^{\\hat{\\xi_2}\\theta_2} G_{sb}(0) \\bar{p_b} \n",
    "$$\n",
    "Generalizing this procedure for any limb in the body we generate what is known as a forward kinematics map. Which defines $\\Theta = (\\theta_1, \\theta_2, ..., \\theta_n)^T$ to transform between frames S and B. \n",
    "$$\n",
    "G_{sb}(\\Theta) = e^{\\hat{\\xi_1}\\theta_1} e^{\\hat{\\xi_2}\\theta_2} ... e^{\\hat{\\xi_n}\\theta_n} G_{sb}(0)\n",
    "$$\n",
    "\n",
    "#### The Articulated Jacobian\n",
    "Used to map joint velocities to a rigid body motion. In this case we dont need it.\n",
    "twist ξ = (v,ω) ∈ R6\n",
    "\n",
    "#### Human Pose Parameterization\n",
    "There are three types of DOF in the human body. Below we define the different types of joints possible. \n",
    "![](dof_table.png)  \n",
    "It is a common choice to represent the body with a root joint as six free parameters, and the remaining joints as a concatenation of revolute joints. In this configuration a ball joint is simply three revolute joints. This parameterization is vunerable to sigularities. Therephore we can encode the pose configuration of a human with a scaled twist $\\xi$ and a vector of n joint angles. \n",
    "$$\n",
    "x_t := (\\xi, \\Theta), \\Theta := (\\theta_1, \\theta_2, ..., \\theta_n)\n",
    "$$\n",
    "In this config, a human pose is a D-dimentional state vector $x_t \\in R^D$ where D = 6 + n\n",
    "\n",
    "#### Twists\n",
    "First we must define a twist. Recall that any 3D rigid motion can be represented in an exponetial form:\n",
    "$$\n",
    "M = exp(\\theta \\hat{\\xi}) = exp(\\begin{bmatrix} \\hat{\\omega} & v \\\\ 0_{3x1} & 0 \\end{bmatrix})\n",
    "$$\n",
    "Consider a 3D point p rotating about an axis $\\omega$ intersecting the origin with an angular velocity $\\theta$. The expression $\\theta \\omega$ with the point p is equivalent to the cross product of the rotation axis and the point $\\theta \\hat{\\omega} p = \\theta \\omega \\times p$. A twist can contain six parameters and can be scaled by $\\theta$ with any unit vector $\\omega$. the parameter $\\theta \\in R$ corresponds to the motion velocity. The six twist components can be represented either as a 6D vector or as a 4×4 matrix:\n",
    "$$\n",
    "\\eqalignno{ & \\theta\\xi=\\theta(\\omega_{1}, \\omega_{2}, \\omega_{3}, v_{1}, v_{2}, v_{3})\\cr \\theta\\hat{\\xi}=& \\theta\\left(\\matrix{ 0 & -\\omega_{3} & \\omega_{2} & v_{1}\\cr \\omega_{3} & 0 & -\\omega_{1} & v_{2}\\cr -\\omega_{2} & \\omega_{1} & 0 & v_{3}\\cr 0 & 0 & 0 & 0}\\right)}\n",
    "$$\n",
    "\n",
    "#### Articulated Jacobian\n",
    "The articulated Jacobian is a matrix $J_{\\Theta} \\in R^{6 \\times n}$ that maps joint velocites to a rigid body motion velocity represented by a twist. Represented as:\n",
    "$$\n",
    "J_{\\theta} = [\\xi_1 \\xi_2' ... \\xi_n']\n",
    "$$\n",
    "Where $\\xi_i' = (e^{\\hat{\\xi_1}\\theta_1} ... e^{\\hat{\\xi_{i-1}}\\theta_{i-1}}) \\xi_i$ is the ith joint twist transformed to the current pose. To obtain $\\xi'$ at each timestep, update the twists with the accumulated motion of parent joints in the chain. Note that the form of the Jacobian is different for every limb since different body parts are influenced by different joints.  \n",
    "Given a pose determined by $\\Theta$ and point in the body in spacial coordinates $p_s$ we can obtain $\\Delta p_s$ in position as a function of the increment in the parameter space $\\Delta \\Theta$ as:\n",
    "$$\n",
    "\\Delta \\bar{p_s} = [J_{\\Theta} * \\Delta \\Theta]^{\\wedge} \\bar{p_s} = [\\xi_1 \\Delta \\theta_1 + \\xi_2' \\Delta \\theta_2 + ... + \\xi_n' \\Delta \\theta_m]^{\\wedge}\\bar{p_s}\n",
    "$$\n",
    "\n",
    "#### The Pose Jacobian\n",
    "To optimize the pose parameterizations we need to know the relationships between the increments in pose parameters and increments in the position of a point of a body segment. This is given by the pose Jacobian $J_x(p_s) = \\frac{\\Delta p_s}{\\Delta x}$. Given the expression above for $\\Delta \\bar{p_s}$ we can denote $\\Delta \\xi = [\\Delta v_1, \\Delta v_2, \\Delta v_3, \\Delta \\omega_1, \\Delta \\omega_2, \\Delta \\omega_3] $ as the relative twist corresponding to the root joint. The six coordinates of the scaled relative twist $\\Delta \\xi$ are now free parameters to estimate. Rewrite the above equation using the identity $[u+x]^{\\wedge} = \\hat{u} + \\hat{w}$.  \n",
    "\n",
    "$$\n",
    "\\Delta p_s = [\\Delta \\xi + \\xi_1' \\Delta \\theta_1 + ... + \\xi_n' \\Delta \\theta_n]^{\\wedge}\\bar{p_s} \\\\\n",
    "\\Delta p_s = \\hat{\\Delta \\xi} \\bar{p_s} + \\hat{\\Delta \\xi_1'} \\bar{p_s} \\Delta \\theta_1 + ... + \\hat{\\Delta \\xi_n'} \\bar{p_s} \\Delta \\theta_n\n",
    "$$\n",
    "We can isolate the parameters of the root joint $\\Delta \\xi$ rewriting as $\\hat{\\Delta \\xi} \\bar{p_s}$\n",
    "$$\n",
    "\\hat{\\Delta \\xi} \\bar{p_s} = \\Delta v + \\Delta \\omega \\times p_s = \\Delta v - p_s^{\\wedge} \\Delta \\omega = [I_{[3 \\times 3]} | -p_s^{\\wedge}] \\Delta \\xi\n",
    "$$\n",
    "Sub these expressions together and achieve:\n",
    "$$\n",
    "\\Delta p_s = [I_{[3 \\times 3]} | -p_s^{\\wedge}] \\Delta \\xi + \\hat{\\Delta \\xi} \\bar{p_s} + \\hat{\\Delta \\xi_1'} \\bar{p_s} \\Delta \\theta_1 + ... + \\hat{\\Delta \\xi_n'} \\bar{p_s} \\Delta \\theta_n \\\\\n",
    "\\Delta p_s = J_x(p_s) \\Delta x\n",
    "$$\n",
    "where $\\Delta x = [\\Delta \\xi \\Delta \\Theta]$ is the differential vector of pose parameters and\n",
    "$$\n",
    "J_x(p_s) = [I_{[3 \\times 3]}  -p_{\\hat{s}} \\hat{\\xi_1}\\bar{p_s} \\hat{\\xi_2'}\\bar{p_s} ... \\hat{\\xi_n'}\\bar{p_s}]\n",
    "$$\n",
    "is the position Jacobian $J_x(p_s) \\in R^{3 \\times D}$ of a point $p_s$ with respect to the pose parameters which we denote as pose Jacobian.  \n",
    "For a given point in the body $p_s$ in a configuration x, $J_x(p_s) : R^D -> R^3$ maps an increment of the pose parameters $\\Delta x$ to a positional increment of the point $\\Delta p_s$  \n",
    "***\n",
    "There are two main blocks to the pose Jacobian. The first 6 column vectors correspond to the non constraint relative twist $\\Delta \\xi$ of the root joint, and the rest of the columns (joint columns) that correspond to the point velocity contribution of each angle. The column entries of joints that are not parents of the point are simply $0_{3 \\times 1}$."
   ]
  },
  {
   "cell_type": "markdown",
   "id": "4e005f85-2a2f-4a47-a57f-21d6e0624d08",
   "metadata": {},
   "source": [
    "## Building a toy Jacobian\n",
    "![](kinematic_chain.png)"
   ]
  },
  {
   "cell_type": "code",
   "execution_count": 281,
   "id": "439cb976-b58f-4185-b0c2-25f7751d2204",
   "metadata": {},
   "outputs": [],
   "source": [
    "# fig above:\n",
    "# Blue is Z, Green is Y, Red is X\n",
    "\n",
    "import numpy as np\n",
    "# defining the static model parameters\n",
    "L1 = 1.0 # m\n",
    "L2 = 1.5 # m"
   ]
  },
  {
   "cell_type": "code",
   "execution_count": 38,
   "id": "36439ddb-1278-42e1-af5a-926567fd1adc",
   "metadata": {},
   "outputs": [],
   "source": [
    "def skew(vector):\n",
    "    \"\"\"\n",
    "    this function returns a numpy array with the skew symmetric cross product matrix for vector.\n",
    "    the skew symmetric cross product matrix is defined such that\n",
    "    np.cross(a, b) = np.dot(skew(a), b)\n",
    "\n",
    "    :param vector: An array like vector to create the skew symmetric cross product matrix for\n",
    "    :return: A numpy array of the skew symmetric cross product vector\n",
    "    \"\"\"\n",
    "\n",
    "    return np.array([[0, -vector[2], vector[1]], \n",
    "                     [vector[2], 0, -vector[0]], \n",
    "                     [-vector[1], vector[0], 0]])"
   ]
  },
  {
   "cell_type": "code",
   "execution_count": 296,
   "id": "64211c8a-da79-4b8e-a4cf-7999c23747c3",
   "metadata": {},
   "outputs": [],
   "source": [
    "def rodriguez_formula(theta, w_hat):\n",
    "    return np.eye(3) + w_hat * np.sin(theta) + np.power(w_hat, 2)*(1-np.cos(theta))\n",
    "\n",
    "def calc_G(w, v, theta):\n",
    "    # eq 9.18\n",
    "    G = np.zeros((4,4))\n",
    "    G[:3, :3] = rodriguez_formula(theta, skew(w))\n",
    "    t = (np.eye(3) - G[:3, :3])@(np.cross(w,v)) #+ w@w.T * v * theta\n",
    "    G[:3, 3] = t\n",
    "    G[3, 3] = 1\n",
    "    return G"
   ]
  },
  {
   "cell_type": "code",
   "execution_count": 297,
   "id": "9a9c3f1e-de8e-4cec-bc7a-202b2c01484b",
   "metadata": {},
   "outputs": [],
   "source": [
    "def get_ps(theta_1, theta_2, pb=np.array([0, 0, 0, 1])):\n",
    "    # coordiantes of a control point in Ps given Pb\n",
    "    # eq 9.27    \n",
    "    Gsb_0 = np.array([[1, 0, 0, 0],\n",
    "                      [0, 1, 0, L1],\n",
    "                      [0, 0, 1, 0],\n",
    "                      [0, 0, 0, 1]])\n",
    "\n",
    "    # w is a unit vector specifing the direction of the rotation\n",
    "    # w_hat is the skew matrix calculated from w\n",
    "    w_1 = np.array([1, 0, 0])\n",
    "    w_2 = np.array([1, 0, 0])\n",
    "    # v is the translation along the axis of rotation. \n",
    "    v_1 = np.cross(-w,np.array([0, 0, 0]))\n",
    "    v_2 = np.cross(-w,np.array([0, 0, 0]))\n",
    "    # G is the rigid motion written in exponetial form\n",
    "    G_1 = calc_G(w_1, v_1, theta_1)\n",
    "    G_2 = calc_G(w_2, v_2, theta_2)\n",
    "    print(G_1)\n",
    "    print(G_2)\n",
    "    # theta is the angle of rotation in radians\n",
    "    # R = exp(theta w_hat)\n",
    "    return G_1 @ Gsb_0 @ pb\n",
    "    \n",
    "\n"
   ]
  },
  {
   "cell_type": "code",
   "execution_count": 298,
   "id": "886394e1-f736-4b76-9d18-685dc4489b79",
   "metadata": {},
   "outputs": [
    {
     "name": "stdout",
     "output_type": "stream",
     "text": [
      "[[1. 0. 0. 0.]\n",
      " [0. 1. 0. 0.]\n",
      " [0. 0. 1. 0.]\n",
      " [0. 0. 0. 1.]]\n",
      "[[1. 0. 0. 0.]\n",
      " [0. 1. 0. 0.]\n",
      " [0. 0. 1. 0.]\n",
      " [0. 0. 0. 1.]]\n"
     ]
    },
    {
     "data": {
      "text/plain": [
       "array([0., 1., 0., 1.])"
      ]
     },
     "execution_count": 298,
     "metadata": {},
     "output_type": "execute_result"
    }
   ],
   "source": [
    "get_ps(0, 0)"
   ]
  },
  {
   "cell_type": "code",
   "execution_count": 299,
   "id": "ed70462b-223f-41c8-823a-6df5d84cb6c3",
   "metadata": {},
   "outputs": [
    {
     "name": "stdout",
     "output_type": "stream",
     "text": [
      "[[ 1.         0.         0.         0.       ]\n",
      " [ 0.         1.        -0.3660254  0.       ]\n",
      " [ 0.         1.3660254  1.         0.       ]\n",
      " [ 0.         0.         0.         1.       ]]\n",
      "[[1. 0. 0. 0.]\n",
      " [0. 1. 0. 0.]\n",
      " [0. 0. 1. 0.]\n",
      " [0. 0. 0. 1.]]\n"
     ]
    },
    {
     "data": {
      "text/plain": [
       "array([0.       , 1.       , 1.3660254])"
      ]
     },
     "execution_count": 299,
     "metadata": {},
     "output_type": "execute_result"
    }
   ],
   "source": [
    "n = get_ps(np.pi / 3, 0)\n",
    "n[0:3]"
   ]
  },
  {
   "cell_type": "code",
   "execution_count": 295,
   "id": "3c356d67-2ef8-4f25-b909-5ce184a97dc2",
   "metadata": {},
   "outputs": [
    {
     "data": {
      "text/plain": [
       "1.6929339632083815"
      ]
     },
     "execution_count": 295,
     "metadata": {},
     "output_type": "execute_result"
    }
   ],
   "source": [
    "np.linalg.norm(n[0:3])"
   ]
  },
  {
   "cell_type": "code",
   "execution_count": 276,
   "id": "67c41583-9e17-4040-9204-70e5112df18d",
   "metadata": {},
   "outputs": [
    {
     "name": "stdout",
     "output_type": "stream",
     "text": [
      "[[ 0.         0.3660254  0.       ]\n",
      " [-1.3660254  0.         0.       ]\n",
      " [ 0.         0.         0.       ]]\n",
      "[0. 1. 0.]\n",
      "[0. 0. 0.]\n",
      "[[0.        0.3660254 0.       ]\n",
      " [0.        0.        0.       ]\n",
      " [0.        0.        0.       ]]\n",
      "0.3660254037844387\n"
     ]
    }
   ],
   "source": [
    "w = np.array([0, 0, 1])\n",
    "v = np.array([L1, 0, 0])\n",
    "theta = np.pi / 3\n",
    "p1 = np.eye(3) - rodriguez_formula(theta, skew(w))\n",
    "p2 = np.cross(w,v)\n",
    "p3 = w*w.T*v*theta\n",
    "\n",
    "print(p1)\n",
    "print(p2)\n",
    "print(p3)\n",
    "print(p1 * p2 + p3)\n",
    "print(np.linalg.norm(p1 * p2 + p3))\n"
   ]
  },
  {
   "cell_type": "code",
   "execution_count": 255,
   "id": "dc210d40-66d6-4d99-a098-55df040c7c63",
   "metadata": {},
   "outputs": [
    {
     "data": {
      "text/plain": [
       "array([1., 0., 0.])"
      ]
     },
     "execution_count": 255,
     "metadata": {},
     "output_type": "execute_result"
    }
   ],
   "source": [
    " w.T@w * v "
   ]
  },
  {
   "cell_type": "code",
   "execution_count": 277,
   "id": "4e5b6853-24a4-439e-b6ea-55a62cb0dff7",
   "metadata": {},
   "outputs": [
    {
     "data": {
      "text/plain": [
       "array([0, 0, 0])"
      ]
     },
     "execution_count": 277,
     "metadata": {},
     "output_type": "execute_result"
    }
   ],
   "source": [
    "np.cross(-w,np.array([0, 0, 0]))"
   ]
  },
  {
   "cell_type": "code",
   "execution_count": 241,
   "id": "4cb674ae-2bee-4117-91ff-ea284445ea43",
   "metadata": {},
   "outputs": [
    {
     "data": {
      "text/plain": [
       "array([1.04719755, 0.        , 0.        ])"
      ]
     },
     "execution_count": 241,
     "metadata": {},
     "output_type": "execute_result"
    }
   ],
   "source": []
  },
  {
   "cell_type": "code",
   "execution_count": null,
   "id": "f8735635-ef0a-4673-acb7-8391864fb0b4",
   "metadata": {},
   "outputs": [],
   "source": []
  }
 ],
 "metadata": {
  "kernelspec": {
   "display_name": "Python 3 (ipykernel)",
   "language": "python",
   "name": "python3"
  },
  "language_info": {
   "codemirror_mode": {
    "name": "ipython",
    "version": 3
   },
   "file_extension": ".py",
   "mimetype": "text/x-python",
   "name": "python",
   "nbconvert_exporter": "python",
   "pygments_lexer": "ipython3",
   "version": "3.9.10"
  }
 },
 "nbformat": 4,
 "nbformat_minor": 5
}
